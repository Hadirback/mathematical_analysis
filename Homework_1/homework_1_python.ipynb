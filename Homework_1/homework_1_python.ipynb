{
 "cells": [
  {
   "cell_type": "code",
   "execution_count": 1,
   "metadata": {},
   "outputs": [],
   "source": [
    "import math\n",
    "from decimal import Decimal\n"
   ]
  },
  {
   "cell_type": "markdown",
   "metadata": {},
   "source": [
    "1. Даны три множества a,b и с. Необходимо выполнить все изученные виды бинарных операций над всеми комбинациями множеств."
   ]
  },
  {
   "cell_type": "code",
   "execution_count": 1,
   "metadata": {},
   "outputs": [
    {
     "name": "stdout",
     "output_type": "stream",
     "text": [
      "{'5', '3', '0', '1', '7', '8', '2'}\n",
      "{'5', '8', '3', '2', '1'}\n",
      "{'3'}\n",
      "{'8', '2'}\n",
      "{'5', '3', '1'}\n",
      "{'7', '0'}\n",
      "{'5', '3', '0', '1', '7'}\n"
     ]
    }
   ],
   "source": [
    "a = set('538512')\n",
    "b = set('2780')\n",
    "c = set('3')\n",
    "\n",
    "union_a_b = a.union(b)\n",
    "print(union_a_b)\n",
    "union_a_c = a.union(c)\n",
    "print(union_a_c)\n",
    "intersection_a_c = a.intersection(c)\n",
    "print(intersection_a_c)\n",
    "intersection_a_b = a.intersection(b)\n",
    "print(intersection_a_b)\n",
    "diff_a_b = a.difference(b)\n",
    "print(diff_a_b)\n",
    "diff_b_a = b.difference(a)\n",
    "print(diff_b_a)\n",
    "symmetric_diff_a_b = a.symmetric_difference(b)\n",
    "print(symmetric_diff_a_b)"
   ]
  },
  {
   "cell_type": "markdown",
   "metadata": {},
   "source": [
    "На языке Python предложить алгоритм вычисляющий численно предел с точностью "
   ]
  },
  {
   "cell_type": "code",
   "execution_count": null,
   "metadata": {},
   "outputs": [],
   "source": [
    "def func(n):\n",
    "    part_2 =  Decimal(math.factorial(n))**Decimal(1/n)\n",
    "    return Decimal(n / part_2)\n",
    "\n",
    "acc = 0.0000001\n",
    "end_count = 0\n",
    "i = 2\n",
    "\n",
    "while True:\n",
    "    val = func(i) - func(i - 1)\n",
    "    print(func(i))\n",
    "    print(i)\n",
    "    print(val)\n",
    "    if(val < acc):\n",
    "        break\n",
    "    i = i*2\n",
    " \n"
   ]
  },
  {
   "cell_type": "markdown",
   "metadata": {},
   "source": [
    "Предложить оптимизацию алгоритма, полученного в задании 3, ускоряющую его сходимость."
   ]
  },
  {
   "cell_type": "code",
   "execution_count": null,
   "metadata": {},
   "outputs": [],
   "source": []
  }
 ],
 "metadata": {
  "kernelspec": {
   "display_name": "Python 3",
   "language": "python",
   "name": "python3"
  },
  "language_info": {
   "codemirror_mode": {
    "name": "ipython",
    "version": 3
   },
   "file_extension": ".py",
   "mimetype": "text/x-python",
   "name": "python",
   "nbconvert_exporter": "python",
   "pygments_lexer": "ipython3",
   "version": "3.7.4"
  }
 },
 "nbformat": 4,
 "nbformat_minor": 2
}
